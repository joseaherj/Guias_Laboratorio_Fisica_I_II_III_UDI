{
  "nbformat": 4,
  "nbformat_minor": 0,
  "metadata": {
    "colab": {
      "provenance": []
    },
    "kernelspec": {
      "name": "python3",
      "display_name": "Python 3"
    },
    "language_info": {
      "name": "python"
    }
  },
  "cells": [
    {
      "cell_type": "markdown",
      "source": [
        "# Conectando el notebook con el drive"
      ],
      "metadata": {
        "id": "M5mdn5KK4aqH"
      }
    },
    {
      "cell_type": "code",
      "source": [
        "from google.colab import drive\n",
        "drive.mount('/content/drive/')"
      ],
      "metadata": {
        "colab": {
          "base_uri": "https://localhost:8080/"
        },
        "id": "bSvkIWFB-CSt",
        "outputId": "8edae775-1f81-4d4d-cd89-a6921eb55703"
      },
      "execution_count": 1,
      "outputs": [
        {
          "output_type": "stream",
          "name": "stdout",
          "text": [
            "Drive already mounted at /content/drive/; to attempt to forcibly remount, call drive.mount(\"/content/drive/\", force_remount=True).\n"
          ]
        }
      ]
    },
    {
      "cell_type": "markdown",
      "source": [
        "# Importando la bibloteca Numpy"
      ],
      "metadata": {
        "id": "XJ5MfmNZ4U_X"
      }
    },
    {
      "cell_type": "code",
      "execution_count": 2,
      "metadata": {
        "id": "uf_mFbgsC5Fk"
      },
      "outputs": [],
      "source": [
        "import numpy as np"
      ]
    },
    {
      "cell_type": "markdown",
      "source": [
        "#Cargando los datos"
      ],
      "metadata": {
        "id": "qSJCNFQu4h9e"
      }
    },
    {
      "cell_type": "code",
      "source": [
        "data=np.loadtxt('/content/drive/MyDrive/Colab Notebooks/datos/pendulo 1.txt')\n",
        "print(data)"
      ],
      "metadata": {
        "id": "lNbGAeepDlqf",
        "colab": {
          "base_uri": "https://localhost:8080/"
        },
        "outputId": "4a73cecc-54d2-4f94-f9a4-02f294c3f63c"
      },
      "execution_count": 3,
      "outputs": [
        {
          "output_type": "stream",
          "name": "stdout",
          "text": [
            "[12.54 12.58 12.7  12.4  13.01 13.04 12.65 12.75 12.46 12.5 ]\n"
          ]
        }
      ]
    },
    {
      "cell_type": "code",
      "source": [],
      "metadata": {
        "colab": {
          "base_uri": "https://localhost:8080/"
        },
        "id": "qBkR_AL_DuTI",
        "outputId": "4ace2f78-5d33-42a3-82a9-4301c3a64b85"
      },
      "execution_count": 9,
      "outputs": [
        {
          "output_type": "stream",
          "name": "stdout",
          "text": [
            "[12.54 12.58 12.7  12.4  13.01 13.04 12.65 12.75 12.46 12.5 ]\n"
          ]
        }
      ]
    },
    {
      "cell_type": "markdown",
      "source": [
        "# Calculando la media y la desviación standard de las 10 oscilaciones"
      ],
      "metadata": {
        "id": "QtY9JT0J4oNY"
      }
    },
    {
      "cell_type": "code",
      "source": [
        "media = np.mean(data)\n",
        "print(\"Media del tiempo de 10 oscilaciones: {:.2f}\".format(media))\n",
        "\n",
        "sigma = np.std(data)\n",
        "print(\"Desviación standard del tiempo de 10 oscilaciones: {:.2f}\".format(sigma))"
      ],
      "metadata": {
        "id": "ZSDi9ukdD_xf",
        "colab": {
          "base_uri": "https://localhost:8080/"
        },
        "outputId": "f78d071b-0e29-4c9f-8a53-30875ffc130a"
      },
      "execution_count": 12,
      "outputs": [
        {
          "output_type": "stream",
          "name": "stdout",
          "text": [
            "Media del tiempo de 10 oscilaciones: 12.66\n",
            "Desviación standard del tiempo de 10 oscilaciones: 0.21\n"
          ]
        }
      ]
    },
    {
      "cell_type": "markdown",
      "source": [
        "# Calculando la gravedad Local y su error"
      ],
      "metadata": {
        "id": "8qCemSH-BpL4"
      }
    },
    {
      "cell_type": "code",
      "source": [
        "periodo = media/10\n",
        "periodo_sigma = sigma/10\n",
        "longitud  = 0.4\n",
        "longitud_sigma = 0.01\n",
        "\n",
        "\n",
        "gravedad =  (longitud*4*(np.pi**2))/periodo**2\n",
        "\n",
        "term1 = (longitud_sigma/longitud)**2\n",
        "term2 = ((periodo_sigma)/periodo)**2\n",
        "\n",
        "sigma_g = gravedad*np.sqrt(term1+term2)"
      ],
      "metadata": {
        "id": "9Vaph3NoIPQ9"
      },
      "execution_count": 14,
      "outputs": []
    },
    {
      "cell_type": "code",
      "source": [
        "print (\"La gravedad calculada {:.2f} +- {:.2f}\".format(gravedad,sigma_g))"
      ],
      "metadata": {
        "colab": {
          "base_uri": "https://localhost:8080/"
        },
        "id": "LCmDEGQGLSwu",
        "outputId": "0833aa7f-4595-4e19-ff17-3f1c34ac54d5"
      },
      "execution_count": 15,
      "outputs": [
        {
          "output_type": "stream",
          "name": "stdout",
          "text": [
            "La gravedad calculada 9.85 +- 0.29\n"
          ]
        }
      ]
    },
    {
      "cell_type": "markdown",
      "source": [
        "# Graficando el histograma de la distrubución de las medidas de las 10 oscilaciones"
      ],
      "metadata": {
        "id": "o1hJiYHU4z1_"
      }
    },
    {
      "cell_type": "code",
      "source": [
        "import matplotlib.pyplot as plt"
      ],
      "metadata": {
        "id": "3PrDBU3OL3KH"
      },
      "execution_count": 16,
      "outputs": []
    },
    {
      "cell_type": "code",
      "source": [
        "plt.hist(data,5)\n",
        "plt.xlabel('tiempo (s)')\n",
        "plt.ylabel('numero de medidas')\n",
        "plt.title('Pendulo 1')\n",
        "plt.savefig('/content/drive/MyDrive/Colab Notebooks/graficos/histograma.png')"
      ],
      "metadata": {
        "colab": {
          "base_uri": "https://localhost:8080/",
          "height": 472
        },
        "id": "nzryJQ4kNFzE",
        "outputId": "e7332e72-9624-4759-bda1-d93e66bc2958"
      },
      "execution_count": 24,
      "outputs": [
        {
          "output_type": "display_data",
          "data": {
            "text/plain": [
              "<Figure size 640x480 with 1 Axes>"
            ],
            "image/png": "[encoded data removed]"
          },
          "metadata": {}
        }
      ]
    },
    {
      "cell_type": "markdown",
      "source": [
        "#Calculando el error Relativo entre pendulos con la misma longitud pero difererente peso"
      ],
      "metadata": {
        "id": "R9W_ih1_Cbqd"
      }
    },
    {
      "cell_type": "code",
      "source": [
        "T_pendulo1 = 1.1\n",
        "T_pendulo2 = 1.2\n",
        "\n",
        "erro_relativo = (np.abs(T_pendulo1-T_pendulo2)/T_pendulo1)*100\n",
        "\n",
        "print(\"El error relativo entre los pendulos es {:.2f}%\".format(erro_relativo))"
      ],
      "metadata": {
        "id": "AhlahE7_NKk8",
        "colab": {
          "base_uri": "https://localhost:8080/"
        },
        "outputId": "b883ec8c-7bf9-4a32-dd05-4d56188f0cc6"
      },
      "execution_count": 4,
      "outputs": [
        {
          "output_type": "stream",
          "name": "stdout",
          "text": [
            "El error relativo entre los pendulos es 9.09%\n"
          ]
        }
      ]
    }
  ]
}